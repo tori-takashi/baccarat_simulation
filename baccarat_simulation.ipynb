{
 "cells": [
  {
   "cell_type": "code",
   "execution_count": 632,
   "metadata": {},
   "outputs": [
    {
     "name": "stdout",
     "output_type": "stream",
     "text": [
      "出金に必要なベット額：　162133.33333333334ドル\n"
     ]
    }
   ],
   "source": [
    "# 期待値\n",
    "e = (0.49*(200 + 0) + 0.51*(0 + 200*0.9975))/2\n",
    "\n",
    "# 出金額\n",
    "bonus = 1216\n",
    "\n",
    "# 還元率（バカラ）\n",
    "exchange_rate_bakara = 100/15\n",
    "\n",
    "# 出金条件\n",
    "ex_condition = 20\n",
    "\n",
    "# 出金に必要なベット額\n",
    "total_mandatory_bet = bonus * exchange_rate_bakara * ex_condition\n",
    "print(\"出金に必要なベット額：　\" + str(total_mandatory_bet) + \"ドル\")"
   ]
  },
  {
   "cell_type": "code",
   "execution_count": 634,
   "metadata": {},
   "outputs": [],
   "source": [
    "import math\n",
    "\n",
    "def ex_bet(total_mandatory_bet, one_bet):\n",
    "    one_time = 0.25 # 0.5分=30秒\n",
    "    total_times = int(total_mandatory_bet/one_bet) # 回数\n",
    "    \n",
    "    print(\"出金までに必要なベット回数：\" + str(total_times) + \"回\")\n",
    "    print(\"出金までに必要なベット回数を満たすために必要な時間：\" + str(total_times*one_time/60) + \"時間\")\n",
    "    print(\"時給：\" + str(bonus/(total_times*one_time/60)) + \"ドル\")\n",
    "    \n",
    "    zero_bonus_condition = int(bonus/one_bet)\n",
    "    one_time_happen_prob = (1/2)**zero_bonus_condition*100\n",
    "    \n",
    "    # total_time回中1回発生する確率\n",
    "    one_time_prob_on_n = successive_trial(total_times, 1, one_time_happen_prob)\n",
    "    \n",
    "    print(\"連続：\" + str(zero_bonus_condition) + \"回負けたらボーナス0円\")\n",
    "    print(\"発生確率：\" + \"{:.20f}\".format(one_time_happen_prob) + \"%\")\n",
    "    print(\"全\" + str(total_times) + \"回中での発生確率：\" + \\\n",
    "          \"{:.20f}\".format(one_time_prob_on_n)+ \"%\\n\")\n",
    "    \n",
    "def successive_trial(n, r, prob):\n",
    "    return combination(n, r) * (prob)**r * (1-prob)**(n-r)\n",
    "        \n",
    "\n",
    "def combination(n, r):\n",
    "    return math.factorial(n) // (math.factorial(n - r) * math.factorial(r))    "
   ]
  },
  {
   "cell_type": "code",
   "execution_count": 635,
   "metadata": {},
   "outputs": [
    {
     "name": "stdout",
     "output_type": "stream",
     "text": [
      "出金までに必要なベット回数：16213回\n",
      "出金までに必要なベット回数を満たすために必要な時間：67.55416666666666時間\n",
      "時給：18.000370073397892ドル\n",
      "連続：121回負けたらボーナス0円\n",
      "発生確率：0.00000000000000000000%\n",
      "全16213回中での発生確率：0.00000000000000000000%\n",
      "\n"
     ]
    }
   ],
   "source": [
    "ex_bet(total_mandatory_bet, 10) # 10ドルベット"
   ]
  },
  {
   "cell_type": "code",
   "execution_count": 426,
   "metadata": {},
   "outputs": [],
   "source": [
    "import random\n",
    "\n",
    "def bakara(bet_side, amount, verbose_opt):\n",
    "    bakara_value = random.random()\n",
    "    bakara_result = \"\"\n",
    "    \n",
    "    if bakara_value < 0.49:\n",
    "        bakara_result = \"p\"\n",
    "        if bet_side == \"p\":\n",
    "            if verbose_opt:\n",
    "                print(\"ベット側:\" + bet_side + \" ベット額:\" + str(amount) + \" 勝利\")\n",
    "            return amount * 2\n",
    "        else:\n",
    "            if verbose_opt:\n",
    "                print(\"ベット側:\" + bet_side + \" ベット額:\" + str(amount) + \" 敗北\")\n",
    "            return 0\n",
    "    #elif 0.4462 <= bakara_value < 0.4462 + 0.0952:\n",
    "    #    bakara_result = \"t\"\n",
    "    #    if bet_side == \"t\":\n",
    "    #        if verbose_opt:\n",
    "    #            print(\"ベット側:\" + bet_side + \" ベット額:\" + str(amount) + \" 勝利\")\n",
    "    #        return amount * 8\n",
    "    #    else:\n",
    "    #        if verbose_opt:\n",
    "    #            print(\"ベット側:\" + bet_side + \" ベット額:\" + str(amount) + \" タイ\")\n",
    "    #        return amount\n",
    "    else:\n",
    "        bakara_result = \"b\"\n",
    "        if bet_side == \"b\":\n",
    "            if verbose_opt:\n",
    "                print(\"ベット側:\" + bet_side + \" ベット額:\" + str(amount) + \" 勝利\")\n",
    "            return amount * 1.95\n",
    "        else:\n",
    "            if verbose_opt:\n",
    "                print(\"ベット側:\" + bet_side + \" ベット額:\" + str(amount) + \" 敗北\")\n",
    "            return 0"
   ]
  },
  {
   "cell_type": "code",
   "execution_count": 637,
   "metadata": {
    "scrolled": false
   },
   "outputs": [],
   "source": [
    "def bet_with_prob(p_prob):\n",
    "    r = random.random()\n",
    "    if r<p_prob:\n",
    "        return \"p\"\n",
    "    else:\n",
    "        return \"b\"\n",
    "\n",
    "def bakara_random_bet(times, bet_amount, verbose_opt):\n",
    "    movements = []\n",
    "    last_money = 0\n",
    "    for i in range(0, times):\n",
    "        last_money += bakara(bet_with_prob(0.49), bet_amount, verbose_opt) - bet_amount\n",
    "        movements.append(last_money)\n",
    "        if verbose_opt:\n",
    "            print(\"所持金:\" + str(last_money))\n",
    "    return last_money, movements"
   ]
  },
  {
   "cell_type": "code",
   "execution_count": 638,
   "metadata": {
    "scrolled": false
   },
   "outputs": [],
   "source": [
    "def bakara_simulator(sample_size, times, bet_amount):\n",
    "    last_money_list = []\n",
    "    movements_list = []\n",
    "\n",
    "    for i in range(0, sample_size):\n",
    "        l, m = bakara_random_bet(times, bet_amount, False)\n",
    "        last_money_list.append(l)\n",
    "        movements_list.append(m)\n",
    "        \n",
    "    return last_money_list, movements_list"
   ]
  },
  {
   "cell_type": "code",
   "execution_count": 639,
   "metadata": {},
   "outputs": [
    {
     "name": "stdout",
     "output_type": "stream",
     "text": [
      "平均:-2037.243\n",
      "標準偏差:1244.8923000073808\n"
     ]
    },
    {
     "data": {
      "text/plain": [
       "(array([  1.,  12.,  83., 325., 735., 877., 650., 242.,  68.,   7.]),\n",
       " array([-7228.5, -6266.4, -5304.3, -4342.2, -3380.1, -2418. , -1455.9,\n",
       "         -493.8,   468.3,  1430.4,  2392.5]),\n",
       " <a list of 10 Patch objects>)"
      ]
     },
     "execution_count": 639,
     "metadata": {},
     "output_type": "execute_result"
    },
    {
     "data": {
      "image/png": "[encoded data removed]",
      "text/plain": [
       "<Figure size 432x288 with 1 Axes>"
      ]
     },
     "metadata": {
      "needs_background": "light"
     },
     "output_type": "display_data"
    }
   ],
   "source": [
    "last_money_list, movements_list = bakara_simulator(3000, 16000, 10)\n",
    "\n",
    "%matplotlib inline\n",
    "\n",
    "import matplotlib.pyplot as plt\n",
    "import numpy as np\n",
    "\n",
    "np_last_money = np.array(last_money_list)\n",
    "np_movements = np.array(movements_list)\n",
    "\n",
    "print(\"平均:\" + str(np_last_money.mean()))\n",
    "print(\"標準偏差:\" + str(np_last_money.std()))\n",
    "\n",
    "plt.hist(np_last_money)"
   ]
  }
 ],
 "metadata": {
  "kernelspec": {
   "display_name": "Python 3",
   "language": "python",
   "name": "python3"
  },
  "language_info": {
   "codemirror_mode": {
    "name": "ipython",
    "version": 3
   },
   "file_extension": ".py",
   "mimetype": "text/x-python",
   "name": "python",
   "nbconvert_exporter": "python",
   "pygments_lexer": "ipython3",
   "version": "3.7.3"
  }
 },
 "nbformat": 4,
 "nbformat_minor": 2
}
